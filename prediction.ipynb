{
 "cells": [
  {
   "cell_type": "code",
   "execution_count": 2,
   "id": "8d886c5b",
   "metadata": {},
   "outputs": [],
   "source": [
    "import yfinance as yf\n",
    "import pandas as pd\n",
    "from datetime import datetime, timedelta\n",
    "import numpy as np\n",
    "from dateutil.relativedelta import relativedelta\n",
    "\n",
    "today     = datetime.today()\n",
    "last_year = today - timedelta(days=365)"
   ]
  },
  {
   "cell_type": "code",
   "execution_count": 3,
   "id": "4655a53c",
   "metadata": {},
   "outputs": [],
   "source": [
    "# compute today and five years ago\n",
    "today = datetime.today()\n",
    "ten_years_ago = today - relativedelta(years=10)\n",
    "\n",
    "ticker = yf.Ticker(\"^NSEI\")\n",
    "df_raw = ticker.history(\n",
    "    start=ten_years_ago.strftime(\"%Y-%m-%d\"),\n",
    "    end=today.strftime(\"%Y-%m-%d\"),\n",
    "    interval=\"1d\",\n",
    "    auto_adjust=False,     # keep raw OHLCV\n",
    "    actions=False          # drop dividends/splits\n",
    ")\n",
    "\n",
    "# drop timezone from index\n",
    "df_raw.index = df_raw.index.tz_localize(None)\n"
   ]
  },
  {
   "cell_type": "code",
   "execution_count": 4,
   "id": "cff2270e",
   "metadata": {},
   "outputs": [
    {
     "data": {
      "text/html": [
       "<div>\n",
       "<style scoped>\n",
       "    .dataframe tbody tr th:only-of-type {\n",
       "        vertical-align: middle;\n",
       "    }\n",
       "\n",
       "    .dataframe tbody tr th {\n",
       "        vertical-align: top;\n",
       "    }\n",
       "\n",
       "    .dataframe thead th {\n",
       "        text-align: right;\n",
       "    }\n",
       "</style>\n",
       "<table border=\"1\" class=\"dataframe\">\n",
       "  <thead>\n",
       "    <tr style=\"text-align: right;\">\n",
       "      <th></th>\n",
       "      <th>Date</th>\n",
       "      <th>Open</th>\n",
       "      <th>High</th>\n",
       "      <th>Low</th>\n",
       "      <th>Close</th>\n",
       "      <th>Volume</th>\n",
       "    </tr>\n",
       "  </thead>\n",
       "  <tbody>\n",
       "    <tr>\n",
       "      <th>2456</th>\n",
       "      <td>2025-07-04</td>\n",
       "      <td>25428.849609</td>\n",
       "      <td>25470.250000</td>\n",
       "      <td>25331.650391</td>\n",
       "      <td>25461.000000</td>\n",
       "      <td>193500</td>\n",
       "    </tr>\n",
       "    <tr>\n",
       "      <th>2457</th>\n",
       "      <td>2025-07-07</td>\n",
       "      <td>25450.449219</td>\n",
       "      <td>25489.800781</td>\n",
       "      <td>25407.250000</td>\n",
       "      <td>25461.300781</td>\n",
       "      <td>196100</td>\n",
       "    </tr>\n",
       "    <tr>\n",
       "      <th>2458</th>\n",
       "      <td>2025-07-08</td>\n",
       "      <td>25427.849609</td>\n",
       "      <td>25548.050781</td>\n",
       "      <td>25424.150391</td>\n",
       "      <td>25522.500000</td>\n",
       "      <td>210400</td>\n",
       "    </tr>\n",
       "    <tr>\n",
       "      <th>2459</th>\n",
       "      <td>2025-07-09</td>\n",
       "      <td>25514.599609</td>\n",
       "      <td>25548.699219</td>\n",
       "      <td>25424.349609</td>\n",
       "      <td>25476.099609</td>\n",
       "      <td>239100</td>\n",
       "    </tr>\n",
       "    <tr>\n",
       "      <th>2460</th>\n",
       "      <td>2025-07-10</td>\n",
       "      <td>25511.650391</td>\n",
       "      <td>25524.050781</td>\n",
       "      <td>25340.449219</td>\n",
       "      <td>25355.250000</td>\n",
       "      <td>219600</td>\n",
       "    </tr>\n",
       "  </tbody>\n",
       "</table>\n",
       "</div>"
      ],
      "text/plain": [
       "           Date          Open          High           Low         Close  \\\n",
       "2456 2025-07-04  25428.849609  25470.250000  25331.650391  25461.000000   \n",
       "2457 2025-07-07  25450.449219  25489.800781  25407.250000  25461.300781   \n",
       "2458 2025-07-08  25427.849609  25548.050781  25424.150391  25522.500000   \n",
       "2459 2025-07-09  25514.599609  25548.699219  25424.349609  25476.099609   \n",
       "2460 2025-07-10  25511.650391  25524.050781  25340.449219  25355.250000   \n",
       "\n",
       "      Volume  \n",
       "2456  193500  \n",
       "2457  196100  \n",
       "2458  210400  \n",
       "2459  239100  \n",
       "2460  219600  "
      ]
     },
     "execution_count": 4,
     "metadata": {},
     "output_type": "execute_result"
    }
   ],
   "source": [
    "ohlcv_df = (\n",
    "    df_raw\n",
    "    .loc[:, [\"Open\", \"High\", \"Low\", \"Close\", \"Volume\"]]\n",
    "    .reset_index()\n",
    "    .rename(columns={\"Date\": \"Date\"})\n",
    ")\n",
    "\n",
    "ohlcv_df.tail()\n"
   ]
  },
  {
   "cell_type": "code",
   "execution_count": 5,
   "id": "7f9d95e7",
   "metadata": {},
   "outputs": [],
   "source": [
    "df_processed = ohlcv_df.copy()\n",
    "\n",
    "# Compute raw variance magnitude\n",
    "raw_var = df_processed['High'] - df_processed['Low']\n",
    "\n",
    "# Assign sign based on comparison:\n",
    "# if |High - Close| < |Close - Low| ⇒ positive variance\n",
    "# else ⇒ negative variance\n",
    "df_processed['Variance'] = np.where(\n",
    "    (df_processed['High'] - df_processed['Close']).abs()\n",
    "    < (df_processed['Close'] - df_processed['Low']).abs(),\n",
    "    raw_var,\n",
    "    -raw_var\n",
    ")\n",
    "\n",
    "# Use Date as index, formatted dd-mm-yyyy\n",
    "df_processed['Date'] = df_processed['Date'].dt.strftime('%d-%m-%Y')\n",
    "df_processed = df_processed.set_index('Date')\n",
    "\n",
    "# Round all numeric cols to 2 decimals and drop High/Low\n",
    "df_processed = (\n",
    "    df_processed\n",
    "    .drop(columns=['High', 'Low'])\n",
    "    .round(2)\n",
    ")"
   ]
  },
  {
   "cell_type": "code",
   "execution_count": 6,
   "id": "b793b8c9",
   "metadata": {},
   "outputs": [
    {
     "data": {
      "text/html": [
       "<div>\n",
       "<style scoped>\n",
       "    .dataframe tbody tr th:only-of-type {\n",
       "        vertical-align: middle;\n",
       "    }\n",
       "\n",
       "    .dataframe tbody tr th {\n",
       "        vertical-align: top;\n",
       "    }\n",
       "\n",
       "    .dataframe thead th {\n",
       "        text-align: right;\n",
       "    }\n",
       "</style>\n",
       "<table border=\"1\" class=\"dataframe\">\n",
       "  <thead>\n",
       "    <tr style=\"text-align: right;\">\n",
       "      <th></th>\n",
       "      <th>Open</th>\n",
       "      <th>Close</th>\n",
       "      <th>Volume</th>\n",
       "      <th>Variance</th>\n",
       "    </tr>\n",
       "    <tr>\n",
       "      <th>Date</th>\n",
       "      <th></th>\n",
       "      <th></th>\n",
       "      <th></th>\n",
       "      <th></th>\n",
       "    </tr>\n",
       "  </thead>\n",
       "  <tbody>\n",
       "    <tr>\n",
       "      <th>13-07-2015</th>\n",
       "      <td>-1.1121</td>\n",
       "      <td>-1.0986</td>\n",
       "      <td>-1.1073</td>\n",
       "      <td>0.6069</td>\n",
       "    </tr>\n",
       "    <tr>\n",
       "      <th>14-07-2015</th>\n",
       "      <td>-1.0983</td>\n",
       "      <td>-1.0996</td>\n",
       "      <td>-1.1910</td>\n",
       "      <td>0.2896</td>\n",
       "    </tr>\n",
       "    <tr>\n",
       "      <th>15-07-2015</th>\n",
       "      <td>-1.0997</td>\n",
       "      <td>-1.0865</td>\n",
       "      <td>-1.1712</td>\n",
       "      <td>0.3545</td>\n",
       "    </tr>\n",
       "    <tr>\n",
       "      <th>16-07-2015</th>\n",
       "      <td>-1.0842</td>\n",
       "      <td>-1.0707</td>\n",
       "      <td>-1.1167</td>\n",
       "      <td>0.3796</td>\n",
       "    </tr>\n",
       "    <tr>\n",
       "      <th>17-07-2015</th>\n",
       "      <td>-1.0696</td>\n",
       "      <td>-1.0704</td>\n",
       "      <td>-1.1738</td>\n",
       "      <td>-0.2698</td>\n",
       "    </tr>\n",
       "    <tr>\n",
       "      <th>...</th>\n",
       "      <td>...</td>\n",
       "      <td>...</td>\n",
       "      <td>...</td>\n",
       "      <td>...</td>\n",
       "    </tr>\n",
       "    <tr>\n",
       "      <th>04-07-2025</th>\n",
       "      <td>2.0834</td>\n",
       "      <td>2.0908</td>\n",
       "      <td>-0.7142</td>\n",
       "      <td>0.7249</td>\n",
       "    </tr>\n",
       "    <tr>\n",
       "      <th>07-07-2025</th>\n",
       "      <td>2.0874</td>\n",
       "      <td>2.0909</td>\n",
       "      <td>-0.7007</td>\n",
       "      <td>0.4290</td>\n",
       "    </tr>\n",
       "    <tr>\n",
       "      <th>08-07-2025</th>\n",
       "      <td>2.0832</td>\n",
       "      <td>2.1024</td>\n",
       "      <td>-0.6264</td>\n",
       "      <td>0.6473</td>\n",
       "    </tr>\n",
       "    <tr>\n",
       "      <th>09-07-2025</th>\n",
       "      <td>2.0995</td>\n",
       "      <td>2.0937</td>\n",
       "      <td>-0.4774</td>\n",
       "      <td>-0.6635</td>\n",
       "    </tr>\n",
       "    <tr>\n",
       "      <th>10-07-2025</th>\n",
       "      <td>2.0989</td>\n",
       "      <td>2.0710</td>\n",
       "      <td>-0.5786</td>\n",
       "      <td>-0.9763</td>\n",
       "    </tr>\n",
       "  </tbody>\n",
       "</table>\n",
       "<p>2461 rows × 4 columns</p>\n",
       "</div>"
      ],
      "text/plain": [
       "              Open   Close  Volume  Variance\n",
       "Date                                        \n",
       "13-07-2015 -1.1121 -1.0986 -1.1073    0.6069\n",
       "14-07-2015 -1.0983 -1.0996 -1.1910    0.2896\n",
       "15-07-2015 -1.0997 -1.0865 -1.1712    0.3545\n",
       "16-07-2015 -1.0842 -1.0707 -1.1167    0.3796\n",
       "17-07-2015 -1.0696 -1.0704 -1.1738   -0.2698\n",
       "...            ...     ...     ...       ...\n",
       "04-07-2025  2.0834  2.0908 -0.7142    0.7249\n",
       "07-07-2025  2.0874  2.0909 -0.7007    0.4290\n",
       "08-07-2025  2.0832  2.1024 -0.6264    0.6473\n",
       "09-07-2025  2.0995  2.0937 -0.4774   -0.6635\n",
       "10-07-2025  2.0989  2.0710 -0.5786   -0.9763\n",
       "\n",
       "[2461 rows x 4 columns]"
      ]
     },
     "execution_count": 6,
     "metadata": {},
     "output_type": "execute_result"
    }
   ],
   "source": [
    "# Z‑score normalization\n",
    "# Apply (x − μ) / σ to each numeric column in df_processed\n",
    "\n",
    "df_norm = df_processed.copy()\n",
    "\n",
    "# Identify numeric columns (all except the index)\n",
    "numeric_cols = df_norm.columns\n",
    "\n",
    "# Compute z‑score\n",
    "df_norm[numeric_cols] = (\n",
    "    df_norm[numeric_cols]\n",
    "    .subtract(df_norm[numeric_cols].mean())\n",
    "    .div(df_norm[numeric_cols].std())\n",
    ")\n",
    "\n",
    "# Optional: round to 2 decimal places\n",
    "df_norm = df_norm.round(4)\n",
    "\n",
    "# Preview\n",
    "df_norm\n"
   ]
  },
  {
   "cell_type": "code",
   "execution_count": 7,
   "id": "2de2c39e",
   "metadata": {},
   "outputs": [
    {
     "name": "stdout",
     "output_type": "stream",
     "text": [
      "✅ scaler.pkl created with means: [1.43246175e+04 1.43156231e+04 3.31018285e+05 1.30682649e+00] and scales: [5.32884622e+03 5.32953268e+03 1.92510343e+05 1.89355339e+02]\n"
     ]
    }
   ],
   "source": [
    "import joblib\n",
    "from sklearn.preprocessing import StandardScaler\n",
    "\n",
    "# Assuming you’ve already built df_processed as in your snippet:\n",
    "# df_processed = ohlcv_df.copy()\n",
    "# … compute Variance, set Date index, drop High/Low, round …\n",
    "\n",
    "# Identify the numeric columns you want to scale\n",
    "numeric_cols = df_processed.columns  # e.g. ['Open','Close','Volume','Variance', ...]\n",
    "\n",
    "# 1) Instantiate and fit the scaler on your training data\n",
    "scaler = StandardScaler()\n",
    "scaler.fit(df_processed[numeric_cols].values)  \n",
    "\n",
    "# 2) (Optional) transform your data now:\n",
    "df_scaled = df_processed.copy()\n",
    "df_scaled[numeric_cols] = scaler.transform(df_processed[numeric_cols].values)\n",
    "\n",
    "# 3) Save the fitted scaler to disk\n",
    "joblib.dump(scaler, \"scaler.pkl\")\n",
    "\n",
    "print(\"✅ scaler.pkl created with means:\", scaler.mean_, \"and scales:\", scaler.scale_)"
   ]
  },
  {
   "cell_type": "code",
   "execution_count": 33,
   "id": "fc9093e9",
   "metadata": {},
   "outputs": [
    {
     "data": {
      "text/plain": [
       "(2461, 4)"
      ]
     },
     "execution_count": 33,
     "metadata": {},
     "output_type": "execute_result"
    }
   ],
   "source": [
    "df_norm.shape"
   ]
  },
  {
   "cell_type": "code",
   "execution_count": 34,
   "id": "c831e06d",
   "metadata": {},
   "outputs": [],
   "source": [
    "from tensorflow.keras.models import Sequential\n",
    "from tensorflow.keras.layers import Bidirectional, LSTM, Dense, Dropout\n",
    "from tensorflow.keras.callbacks import EarlyStopping\n",
    "from sklearn.model_selection import train_test_split\n",
    "import tensorflow as tf\n",
    "from tensorflow.keras import layers, Model, Sequential"
   ]
  },
  {
   "cell_type": "code",
   "execution_count": 35,
   "id": "8106ce82",
   "metadata": {},
   "outputs": [],
   "source": [
    "# Forecast horizon & sequence length\n",
    "HORIZON = 7       # predict 7 days ahead\n",
    "SEQ_LEN = 26     # use past 30 days to predict the next 7\n",
    "FEATURES = df_norm.shape[1]  # here = 4 (Open, Close, Volume, Variance)"
   ]
  },
  {
   "cell_type": "code",
   "execution_count": 36,
   "id": "78fedd74",
   "metadata": {},
   "outputs": [
    {
     "name": "stdout",
     "output_type": "stream",
     "text": [
      "X_train: (1700, 26, 4) y_train: (1700, 7, 4)\n"
     ]
    }
   ],
   "source": [
    "def make_sequences(data: pd.DataFrame, seq_len: int, horizon: int):\n",
    "    \"\"\"\n",
    "    Turn `data` into X, y arrays:\n",
    "      X.shape = (n_samples, seq_len, n_features)\n",
    "      y.shape = (n_samples, horizon, n_features_pred)\n",
    "    Here we predict all features; you can slice to predict only 'Close' if desired.\n",
    "    \"\"\"\n",
    "    arr = data.values\n",
    "    n = len(arr)\n",
    "    X, y = [], []\n",
    "    for i in range(n - seq_len - horizon + 1):\n",
    "        X.append(arr[i : i + seq_len])\n",
    "        y.append(arr[i + seq_len : i + seq_len + horizon])\n",
    "    return np.array(X), np.array(y)\n",
    "\n",
    "X, y = make_sequences(df_norm, SEQ_LEN, HORIZON)\n",
    "\n",
    "# train/test split\n",
    "X_train, X_val, y_train, y_val = train_test_split(\n",
    "    X, y, test_size=0.3, random_state=42, shuffle=True\n",
    ")\n",
    "print(\"X_train:\", X_train.shape, \"y_train:\", y_train.shape)\n"
   ]
  },
  {
   "cell_type": "code",
   "execution_count": 39,
   "id": "d21ce4f4",
   "metadata": {},
   "outputs": [
    {
     "data": {
      "text/html": [
       "<pre style=\"white-space:pre;overflow-x:auto;line-height:normal;font-family:Menlo,'DejaVu Sans Mono',consolas,'Courier New',monospace\"><span style=\"font-weight: bold\">Model: \"sequential_5\"</span>\n",
       "</pre>\n"
      ],
      "text/plain": [
       "\u001b[1mModel: \"sequential_5\"\u001b[0m\n"
      ]
     },
     "metadata": {},
     "output_type": "display_data"
    },
    {
     "data": {
      "text/html": [
       "<pre style=\"white-space:pre;overflow-x:auto;line-height:normal;font-family:Menlo,'DejaVu Sans Mono',consolas,'Courier New',monospace\">┏━━━━━━━━━━━━━━━━━━━━━━━━━━━━━━━━━┳━━━━━━━━━━━━━━━━━━━━━━━━┳━━━━━━━━━━━━━━━┓\n",
       "┃<span style=\"font-weight: bold\"> Layer (type)                    </span>┃<span style=\"font-weight: bold\"> Output Shape           </span>┃<span style=\"font-weight: bold\">       Param # </span>┃\n",
       "┡━━━━━━━━━━━━━━━━━━━━━━━━━━━━━━━━━╇━━━━━━━━━━━━━━━━━━━━━━━━╇━━━━━━━━━━━━━━━┩\n",
       "│ bidirectional_22                │ (<span style=\"color: #00d7ff; text-decoration-color: #00d7ff\">None</span>, <span style=\"color: #00af00; text-decoration-color: #00af00\">26</span>, <span style=\"color: #00af00; text-decoration-color: #00af00\">512</span>)        │       <span style=\"color: #00af00; text-decoration-color: #00af00\">534,528</span> │\n",
       "│ (<span style=\"color: #0087ff; text-decoration-color: #0087ff\">Bidirectional</span>)                 │                        │               │\n",
       "├─────────────────────────────────┼────────────────────────┼───────────────┤\n",
       "│ dropout_43 (<span style=\"color: #0087ff; text-decoration-color: #0087ff\">Dropout</span>)            │ (<span style=\"color: #00d7ff; text-decoration-color: #00d7ff\">None</span>, <span style=\"color: #00af00; text-decoration-color: #00af00\">26</span>, <span style=\"color: #00af00; text-decoration-color: #00af00\">512</span>)        │             <span style=\"color: #00af00; text-decoration-color: #00af00\">0</span> │\n",
       "├─────────────────────────────────┼────────────────────────┼───────────────┤\n",
       "│ bidirectional_23                │ (<span style=\"color: #00d7ff; text-decoration-color: #00d7ff\">None</span>, <span style=\"color: #00af00; text-decoration-color: #00af00\">26</span>, <span style=\"color: #00af00; text-decoration-color: #00af00\">256</span>)        │       <span style=\"color: #00af00; text-decoration-color: #00af00\">656,384</span> │\n",
       "│ (<span style=\"color: #0087ff; text-decoration-color: #0087ff\">Bidirectional</span>)                 │                        │               │\n",
       "├─────────────────────────────────┼────────────────────────┼───────────────┤\n",
       "│ dropout_44 (<span style=\"color: #0087ff; text-decoration-color: #0087ff\">Dropout</span>)            │ (<span style=\"color: #00d7ff; text-decoration-color: #00d7ff\">None</span>, <span style=\"color: #00af00; text-decoration-color: #00af00\">26</span>, <span style=\"color: #00af00; text-decoration-color: #00af00\">256</span>)        │             <span style=\"color: #00af00; text-decoration-color: #00af00\">0</span> │\n",
       "├─────────────────────────────────┼────────────────────────┼───────────────┤\n",
       "│ bidirectional_24                │ (<span style=\"color: #00d7ff; text-decoration-color: #00d7ff\">None</span>, <span style=\"color: #00af00; text-decoration-color: #00af00\">26</span>, <span style=\"color: #00af00; text-decoration-color: #00af00\">128</span>)        │       <span style=\"color: #00af00; text-decoration-color: #00af00\">164,352</span> │\n",
       "│ (<span style=\"color: #0087ff; text-decoration-color: #0087ff\">Bidirectional</span>)                 │                        │               │\n",
       "├─────────────────────────────────┼────────────────────────┼───────────────┤\n",
       "│ dropout_45 (<span style=\"color: #0087ff; text-decoration-color: #0087ff\">Dropout</span>)            │ (<span style=\"color: #00d7ff; text-decoration-color: #00d7ff\">None</span>, <span style=\"color: #00af00; text-decoration-color: #00af00\">26</span>, <span style=\"color: #00af00; text-decoration-color: #00af00\">128</span>)        │             <span style=\"color: #00af00; text-decoration-color: #00af00\">0</span> │\n",
       "├─────────────────────────────────┼────────────────────────┼───────────────┤\n",
       "│ bidirectional_25                │ (<span style=\"color: #00d7ff; text-decoration-color: #00d7ff\">None</span>, <span style=\"color: #00af00; text-decoration-color: #00af00\">64</span>)             │        <span style=\"color: #00af00; text-decoration-color: #00af00\">41,216</span> │\n",
       "│ (<span style=\"color: #0087ff; text-decoration-color: #0087ff\">Bidirectional</span>)                 │                        │               │\n",
       "├─────────────────────────────────┼────────────────────────┼───────────────┤\n",
       "│ dropout_46 (<span style=\"color: #0087ff; text-decoration-color: #0087ff\">Dropout</span>)            │ (<span style=\"color: #00d7ff; text-decoration-color: #00d7ff\">None</span>, <span style=\"color: #00af00; text-decoration-color: #00af00\">64</span>)             │             <span style=\"color: #00af00; text-decoration-color: #00af00\">0</span> │\n",
       "├─────────────────────────────────┼────────────────────────┼───────────────┤\n",
       "│ dense_22 (<span style=\"color: #0087ff; text-decoration-color: #0087ff\">Dense</span>)                │ (<span style=\"color: #00d7ff; text-decoration-color: #00d7ff\">None</span>, <span style=\"color: #00af00; text-decoration-color: #00af00\">28</span>)             │         <span style=\"color: #00af00; text-decoration-color: #00af00\">1,820</span> │\n",
       "└─────────────────────────────────┴────────────────────────┴───────────────┘\n",
       "</pre>\n"
      ],
      "text/plain": [
       "┏━━━━━━━━━━━━━━━━━━━━━━━━━━━━━━━━━┳━━━━━━━━━━━━━━━━━━━━━━━━┳━━━━━━━━━━━━━━━┓\n",
       "┃\u001b[1m \u001b[0m\u001b[1mLayer (type)                   \u001b[0m\u001b[1m \u001b[0m┃\u001b[1m \u001b[0m\u001b[1mOutput Shape          \u001b[0m\u001b[1m \u001b[0m┃\u001b[1m \u001b[0m\u001b[1m      Param #\u001b[0m\u001b[1m \u001b[0m┃\n",
       "┡━━━━━━━━━━━━━━━━━━━━━━━━━━━━━━━━━╇━━━━━━━━━━━━━━━━━━━━━━━━╇━━━━━━━━━━━━━━━┩\n",
       "│ bidirectional_22                │ (\u001b[38;5;45mNone\u001b[0m, \u001b[38;5;34m26\u001b[0m, \u001b[38;5;34m512\u001b[0m)        │       \u001b[38;5;34m534,528\u001b[0m │\n",
       "│ (\u001b[38;5;33mBidirectional\u001b[0m)                 │                        │               │\n",
       "├─────────────────────────────────┼────────────────────────┼───────────────┤\n",
       "│ dropout_43 (\u001b[38;5;33mDropout\u001b[0m)            │ (\u001b[38;5;45mNone\u001b[0m, \u001b[38;5;34m26\u001b[0m, \u001b[38;5;34m512\u001b[0m)        │             \u001b[38;5;34m0\u001b[0m │\n",
       "├─────────────────────────────────┼────────────────────────┼───────────────┤\n",
       "│ bidirectional_23                │ (\u001b[38;5;45mNone\u001b[0m, \u001b[38;5;34m26\u001b[0m, \u001b[38;5;34m256\u001b[0m)        │       \u001b[38;5;34m656,384\u001b[0m │\n",
       "│ (\u001b[38;5;33mBidirectional\u001b[0m)                 │                        │               │\n",
       "├─────────────────────────────────┼────────────────────────┼───────────────┤\n",
       "│ dropout_44 (\u001b[38;5;33mDropout\u001b[0m)            │ (\u001b[38;5;45mNone\u001b[0m, \u001b[38;5;34m26\u001b[0m, \u001b[38;5;34m256\u001b[0m)        │             \u001b[38;5;34m0\u001b[0m │\n",
       "├─────────────────────────────────┼────────────────────────┼───────────────┤\n",
       "│ bidirectional_24                │ (\u001b[38;5;45mNone\u001b[0m, \u001b[38;5;34m26\u001b[0m, \u001b[38;5;34m128\u001b[0m)        │       \u001b[38;5;34m164,352\u001b[0m │\n",
       "│ (\u001b[38;5;33mBidirectional\u001b[0m)                 │                        │               │\n",
       "├─────────────────────────────────┼────────────────────────┼───────────────┤\n",
       "│ dropout_45 (\u001b[38;5;33mDropout\u001b[0m)            │ (\u001b[38;5;45mNone\u001b[0m, \u001b[38;5;34m26\u001b[0m, \u001b[38;5;34m128\u001b[0m)        │             \u001b[38;5;34m0\u001b[0m │\n",
       "├─────────────────────────────────┼────────────────────────┼───────────────┤\n",
       "│ bidirectional_25                │ (\u001b[38;5;45mNone\u001b[0m, \u001b[38;5;34m64\u001b[0m)             │        \u001b[38;5;34m41,216\u001b[0m │\n",
       "│ (\u001b[38;5;33mBidirectional\u001b[0m)                 │                        │               │\n",
       "├─────────────────────────────────┼────────────────────────┼───────────────┤\n",
       "│ dropout_46 (\u001b[38;5;33mDropout\u001b[0m)            │ (\u001b[38;5;45mNone\u001b[0m, \u001b[38;5;34m64\u001b[0m)             │             \u001b[38;5;34m0\u001b[0m │\n",
       "├─────────────────────────────────┼────────────────────────┼───────────────┤\n",
       "│ dense_22 (\u001b[38;5;33mDense\u001b[0m)                │ (\u001b[38;5;45mNone\u001b[0m, \u001b[38;5;34m28\u001b[0m)             │         \u001b[38;5;34m1,820\u001b[0m │\n",
       "└─────────────────────────────────┴────────────────────────┴───────────────┘\n"
      ]
     },
     "metadata": {},
     "output_type": "display_data"
    },
    {
     "data": {
      "text/html": [
       "<pre style=\"white-space:pre;overflow-x:auto;line-height:normal;font-family:Menlo,'DejaVu Sans Mono',consolas,'Courier New',monospace\"><span style=\"font-weight: bold\"> Total params: </span><span style=\"color: #00af00; text-decoration-color: #00af00\">1,398,300</span> (5.33 MB)\n",
       "</pre>\n"
      ],
      "text/plain": [
       "\u001b[1m Total params: \u001b[0m\u001b[38;5;34m1,398,300\u001b[0m (5.33 MB)\n"
      ]
     },
     "metadata": {},
     "output_type": "display_data"
    },
    {
     "data": {
      "text/html": [
       "<pre style=\"white-space:pre;overflow-x:auto;line-height:normal;font-family:Menlo,'DejaVu Sans Mono',consolas,'Courier New',monospace\"><span style=\"font-weight: bold\"> Trainable params: </span><span style=\"color: #00af00; text-decoration-color: #00af00\">1,398,300</span> (5.33 MB)\n",
       "</pre>\n"
      ],
      "text/plain": [
       "\u001b[1m Trainable params: \u001b[0m\u001b[38;5;34m1,398,300\u001b[0m (5.33 MB)\n"
      ]
     },
     "metadata": {},
     "output_type": "display_data"
    },
    {
     "data": {
      "text/html": [
       "<pre style=\"white-space:pre;overflow-x:auto;line-height:normal;font-family:Menlo,'DejaVu Sans Mono',consolas,'Courier New',monospace\"><span style=\"font-weight: bold\"> Non-trainable params: </span><span style=\"color: #00af00; text-decoration-color: #00af00\">0</span> (0.00 B)\n",
       "</pre>\n"
      ],
      "text/plain": [
       "\u001b[1m Non-trainable params: \u001b[0m\u001b[38;5;34m0\u001b[0m (0.00 B)\n"
      ]
     },
     "metadata": {},
     "output_type": "display_data"
    }
   ],
   "source": [
    "model = Sequential([\n",
    "    # 1st layer: keep full sequences for the next LSTM\n",
    "    Bidirectional(LSTM(256, return_sequences=True), \n",
    "                  input_shape=(SEQ_LEN, FEATURES)),\n",
    "    Dropout(0.2),\n",
    "    \n",
    "    # 2nd layer: ALSO return sequences\n",
    "    Bidirectional(LSTM(128, return_sequences=True)),\n",
    "    Dropout(0.2),\n",
    "\n",
    "    # 3rd layer: ALSO return sequences\n",
    "    Bidirectional(LSTM(64, return_sequences=True)),\n",
    "    Dropout(0.2),\n",
    "\n",
    "    # 4th layer: collapse to a single vector\n",
    "    Bidirectional(LSTM(32, return_sequences=False)),\n",
    "    Dropout(0.2),\n",
    "\n",
    "    # final Dense to map into HORIZON*FEATURES outputs\n",
    "    Dense(HORIZON * FEATURES, activation='linear'),\n",
    "])\n",
    "\n",
    "model.summary()\n",
    "\n",
    "model.compile(\n",
    "    loss='mse',\n",
    "    optimizer='adam',\n",
    "    metrics=['mae']\n",
    ")"
   ]
  },
  {
   "cell_type": "code",
   "execution_count": 40,
   "id": "d0e806f7",
   "metadata": {},
   "outputs": [
    {
     "name": "stdout",
     "output_type": "stream",
     "text": [
      "Epoch 1/500\n"
     ]
    },
    {
     "name": "stdout",
     "output_type": "stream",
     "text": [
      "54/54 - 48s - 891ms/step - loss: 0.5139 - mae: 0.5028 - val_loss: 0.3555 - val_mae: 0.3508\n",
      "Epoch 2/500\n",
      "54/54 - 26s - 475ms/step - loss: 0.3944 - mae: 0.3994 - val_loss: 0.3444 - val_mae: 0.3456\n",
      "Epoch 3/500\n",
      "54/54 - 22s - 414ms/step - loss: 0.3803 - mae: 0.3847 - val_loss: 0.3489 - val_mae: 0.3483\n",
      "Epoch 4/500\n",
      "54/54 - 22s - 401ms/step - loss: 0.3748 - mae: 0.3806 - val_loss: 0.3380 - val_mae: 0.3282\n",
      "Epoch 5/500\n",
      "54/54 - 22s - 402ms/step - loss: 0.3690 - mae: 0.3736 - val_loss: 0.3396 - val_mae: 0.3371\n",
      "Epoch 6/500\n",
      "54/54 - 21s - 393ms/step - loss: 0.3646 - mae: 0.3674 - val_loss: 0.3376 - val_mae: 0.3371\n",
      "Epoch 7/500\n",
      "54/54 - 22s - 405ms/step - loss: 0.3641 - mae: 0.3671 - val_loss: 0.3336 - val_mae: 0.3173\n",
      "Epoch 8/500\n",
      "54/54 - 24s - 438ms/step - loss: 0.3599 - mae: 0.3623 - val_loss: 0.3359 - val_mae: 0.3237\n",
      "Epoch 9/500\n",
      "54/54 - 23s - 422ms/step - loss: 0.3583 - mae: 0.3613 - val_loss: 0.3383 - val_mae: 0.3407\n",
      "Epoch 10/500\n",
      "54/54 - 22s - 406ms/step - loss: 0.3574 - mae: 0.3605 - val_loss: 0.3324 - val_mae: 0.3271\n",
      "Epoch 11/500\n",
      "54/54 - 41s - 757ms/step - loss: 0.3547 - mae: 0.3577 - val_loss: 0.3316 - val_mae: 0.3203\n",
      "Epoch 12/500\n",
      "54/54 - 24s - 441ms/step - loss: 0.3511 - mae: 0.3527 - val_loss: 0.3345 - val_mae: 0.3280\n",
      "Epoch 13/500\n",
      "54/54 - 39s - 715ms/step - loss: 0.3512 - mae: 0.3554 - val_loss: 0.3316 - val_mae: 0.3260\n",
      "Epoch 14/500\n",
      "54/54 - 22s - 407ms/step - loss: 0.3493 - mae: 0.3556 - val_loss: 0.3368 - val_mae: 0.3325\n",
      "Epoch 15/500\n",
      "54/54 - 21s - 395ms/step - loss: 0.3469 - mae: 0.3533 - val_loss: 0.3310 - val_mae: 0.3266\n",
      "Epoch 16/500\n",
      "54/54 - 23s - 425ms/step - loss: 0.3437 - mae: 0.3516 - val_loss: 0.3325 - val_mae: 0.3231\n",
      "Epoch 17/500\n",
      "54/54 - 23s - 417ms/step - loss: 0.3428 - mae: 0.3499 - val_loss: 0.3279 - val_mae: 0.3227\n",
      "Epoch 18/500\n",
      "54/54 - 22s - 405ms/step - loss: 0.3404 - mae: 0.3473 - val_loss: 0.3250 - val_mae: 0.3172\n",
      "Epoch 19/500\n",
      "54/54 - 24s - 439ms/step - loss: 0.3360 - mae: 0.3458 - val_loss: 0.3238 - val_mae: 0.3126\n",
      "Epoch 20/500\n",
      "54/54 - 24s - 439ms/step - loss: 0.3341 - mae: 0.3430 - val_loss: 0.3235 - val_mae: 0.3132\n",
      "Epoch 21/500\n",
      "54/54 - 25s - 457ms/step - loss: 0.3303 - mae: 0.3441 - val_loss: 0.3180 - val_mae: 0.3124\n",
      "Epoch 22/500\n",
      "54/54 - 25s - 462ms/step - loss: 0.3282 - mae: 0.3409 - val_loss: 0.3255 - val_mae: 0.3225\n",
      "Epoch 23/500\n",
      "54/54 - 21s - 397ms/step - loss: 0.3269 - mae: 0.3419 - val_loss: 0.3212 - val_mae: 0.3135\n",
      "Epoch 24/500\n",
      "54/54 - 22s - 402ms/step - loss: 0.3248 - mae: 0.3432 - val_loss: 0.3166 - val_mae: 0.3057\n",
      "Epoch 25/500\n",
      "54/54 - 44s - 807ms/step - loss: 0.3156 - mae: 0.3344 - val_loss: 0.3121 - val_mae: 0.3042\n",
      "Epoch 26/500\n",
      "54/54 - 27s - 493ms/step - loss: 0.3152 - mae: 0.3331 - val_loss: 0.3081 - val_mae: 0.3032\n",
      "Epoch 27/500\n",
      "54/54 - 26s - 478ms/step - loss: 0.3095 - mae: 0.3295 - val_loss: 0.3109 - val_mae: 0.3015\n",
      "Epoch 28/500\n",
      "54/54 - 26s - 472ms/step - loss: 0.3049 - mae: 0.3283 - val_loss: 0.3081 - val_mae: 0.3021\n",
      "Epoch 29/500\n",
      "54/54 - 27s - 502ms/step - loss: 0.3088 - mae: 0.3302 - val_loss: 0.3113 - val_mae: 0.3165\n",
      "Epoch 30/500\n",
      "54/54 - 23s - 422ms/step - loss: 0.3032 - mae: 0.3286 - val_loss: 0.3054 - val_mae: 0.2995\n",
      "Epoch 31/500\n",
      "54/54 - 21s - 396ms/step - loss: 0.2983 - mae: 0.3215 - val_loss: 0.3016 - val_mae: 0.2966\n",
      "Epoch 32/500\n",
      "54/54 - 23s - 426ms/step - loss: 0.2937 - mae: 0.3193 - val_loss: 0.3056 - val_mae: 0.2998\n",
      "Epoch 33/500\n",
      "54/54 - 25s - 462ms/step - loss: 0.2887 - mae: 0.3159 - val_loss: 0.2974 - val_mae: 0.2912\n",
      "Epoch 34/500\n",
      "54/54 - 22s - 401ms/step - loss: 0.2855 - mae: 0.3154 - val_loss: 0.3043 - val_mae: 0.2949\n",
      "Epoch 35/500\n",
      "54/54 - 25s - 455ms/step - loss: 0.2880 - mae: 0.3169 - val_loss: 0.3046 - val_mae: 0.3062\n",
      "Epoch 36/500\n",
      "54/54 - 22s - 403ms/step - loss: 0.2881 - mae: 0.3181 - val_loss: 0.3055 - val_mae: 0.3015\n",
      "Epoch 37/500\n",
      "54/54 - 24s - 452ms/step - loss: 0.2830 - mae: 0.3141 - val_loss: 0.2999 - val_mae: 0.2996\n",
      "Epoch 38/500\n",
      "54/54 - 22s - 413ms/step - loss: 0.2762 - mae: 0.3088 - val_loss: 0.2994 - val_mae: 0.2888\n",
      "Epoch 39/500\n",
      "54/54 - 25s - 467ms/step - loss: 0.2738 - mae: 0.3095 - val_loss: 0.3033 - val_mae: 0.2945\n",
      "Epoch 40/500\n",
      "54/54 - 26s - 484ms/step - loss: 0.2714 - mae: 0.3078 - val_loss: 0.3021 - val_mae: 0.2884\n",
      "Epoch 41/500\n",
      "54/54 - 26s - 482ms/step - loss: 0.2711 - mae: 0.3071 - val_loss: 0.3022 - val_mae: 0.2920\n",
      "Epoch 42/500\n",
      "54/54 - 25s - 463ms/step - loss: 0.2669 - mae: 0.3048 - val_loss: 0.3025 - val_mae: 0.2885\n",
      "Epoch 43/500\n",
      "54/54 - 23s - 433ms/step - loss: 0.2633 - mae: 0.3054 - val_loss: 0.3053 - val_mae: 0.2925\n"
     ]
    }
   ],
   "source": [
    "es = EarlyStopping(monitor='val_loss', patience=10, restore_best_weights=True)\n",
    "history = model.fit(\n",
    "    X_train, y_train.reshape(len(y_train), HORIZON * FEATURES),\n",
    "    validation_data=(X_val, y_val.reshape(len(y_val), HORIZON * FEATURES)),\n",
    "    epochs=500,\n",
    "    batch_size=32,\n",
    "    callbacks=[es],\n",
    "    verbose=2\n",
    ")"
   ]
  },
  {
   "cell_type": "code",
   "execution_count": 41,
   "id": "86a857f7",
   "metadata": {},
   "outputs": [
    {
     "data": {
      "image/png": "[encoded data removed]",
      "text/plain": [
       "<Figure size 800x500 with 1 Axes>"
      ]
     },
     "metadata": {},
     "output_type": "display_data"
    }
   ],
   "source": [
    "import matplotlib.pyplot as plt\n",
    "\n",
    "# Extract metrics from history\n",
    "mae      = history.history['mae']\n",
    "val_mae  = history.history['val_mae']\n",
    "epochs   = range(1, len(mae) + 1)\n",
    "\n",
    "# Plot\n",
    "plt.figure(figsize=(8, 5))\n",
    "plt.plot(epochs, mae,     label='Training MAE')\n",
    "plt.plot(epochs, val_mae, label='Validation MAE')\n",
    "plt.xlabel('Epoch')\n",
    "plt.ylabel('Mean Absolute Error')\n",
    "plt.title('Training vs. Validation MAE')\n",
    "plt.legend()\n",
    "plt.grid(True)\n",
    "plt.tight_layout()\n",
    "plt.show()\n"
   ]
  },
  {
   "cell_type": "code",
   "execution_count": 42,
   "id": "6547149f",
   "metadata": {},
   "outputs": [
    {
     "data": {
      "image/png": "[encoded data removed]",
      "text/plain": [
       "<Figure size 800x500 with 1 Axes>"
      ]
     },
     "metadata": {},
     "output_type": "display_data"
    }
   ],
   "source": [
    "# Extract metrics from history\n",
    "loss      = history.history['loss']\n",
    "val_loss  = history.history['val_loss']\n",
    "epochs   = range(1, len(mae) + 1)\n",
    "\n",
    "# Plot\n",
    "plt.figure(figsize=(8, 5))\n",
    "plt.plot(epochs, loss,     label='Training Loss')\n",
    "plt.plot(epochs, val_loss, label='Validation Loss')\n",
    "plt.xlabel('Epoch')\n",
    "plt.ylabel('Loss Percentage')\n",
    "plt.title('Training vs. Validation Loss')\n",
    "plt.legend()\n",
    "plt.grid(True)\n",
    "plt.tight_layout()\n",
    "plt.show()"
   ]
  },
  {
   "cell_type": "code",
   "execution_count": 43,
   "id": "190752d9",
   "metadata": {},
   "outputs": [],
   "source": [
    "model.save(\"bilstm_forcaster.keras\")"
   ]
  },
  {
   "cell_type": "code",
   "execution_count": 51,
   "id": "f44d6eee",
   "metadata": {},
   "outputs": [
    {
     "data": {
      "text/plain": [
       "Index(['Open', 'Close', 'Volume', 'Variance'], dtype='object')"
      ]
     },
     "execution_count": 51,
     "metadata": {},
     "output_type": "execute_result"
    }
   ],
   "source": [
    "df_processed.columns"
   ]
  },
  {
   "cell_type": "code",
   "execution_count": 53,
   "id": "6b1d2907",
   "metadata": {},
   "outputs": [
    {
     "name": "stdout",
     "output_type": "stream",
     "text": [
      "\u001b[1m1/1\u001b[0m \u001b[32m━━━━━━━━━━━━━━━━━━━━\u001b[0m\u001b[37m\u001b[0m \u001b[1m0s\u001b[0m 33ms/step\n",
      "       Open     Close     Volume\n",
      "0  25085.73  24962.29  252636.96\n",
      "1  25072.57  24989.76  274392.21\n",
      "2  24841.07  24838.03  247550.93\n",
      "3  24808.34  24809.26  229374.50\n",
      "4  24793.44  24891.35  255285.02\n",
      "5  24870.20  24751.63  229246.97\n",
      "6  24917.14  24973.95  247421.24\n"
     ]
    }
   ],
   "source": [
    "# 1) Capture original stats from df_processed\n",
    "orig_means = df_processed.mean()\n",
    "orig_stds  = df_processed.std()\n",
    "\n",
    "# 2) Re-create df_norm\n",
    "df_norm = df_processed.copy()\n",
    "numeric_cols = df_norm.columns\n",
    "df_norm[numeric_cols] = (\n",
    "    df_norm[numeric_cols]\n",
    "      .subtract(orig_means)\n",
    "      .div(orig_stds)\n",
    ")\n",
    "df_norm = df_norm.round(4)\n",
    "\n",
    "# 3) Forecast in normalized space\n",
    "last_seq = df_norm.values[-SEQ_LEN:].reshape(1, SEQ_LEN, FEATURES)\n",
    "pred_norm = model.predict(last_seq)                    \n",
    "pred_norm = pred_norm.reshape(HORIZON, FEATURES)       \n",
    "\n",
    "df_forecast_norm = pd.DataFrame(pred_norm[:, :3], index=None, columns=['Open', 'Close', 'Volume'])\n",
    "\n",
    "df_forecast = (\n",
    "    df_forecast_norm.mul(orig_stds, axis=1)\n",
    "                    .add(orig_means, axis=1)\n",
    "                    [['Open', 'Close', 'Volume']]\n",
    "                    .round(2)\n",
    ")\n",
    "\n",
    "# 6) Round and print\n",
    "df_forecast = df_forecast.round(2)\n",
    "print(df_forecast)"
   ]
  },
  {
   "cell_type": "code",
   "execution_count": 1,
   "id": "a5393ac5",
   "metadata": {},
   "outputs": [],
   "source": [
    "import tensorflow as tf"
   ]
  },
  {
   "cell_type": "code",
   "execution_count": null,
   "id": "672461e1",
   "metadata": {},
   "outputs": [],
   "source": []
  }
 ],
 "metadata": {
  "kernelspec": {
   "display_name": "base",
   "language": "python",
   "name": "python3"
  },
  "language_info": {
   "codemirror_mode": {
    "name": "ipython",
    "version": 3
   },
   "file_extension": ".py",
   "mimetype": "text/x-python",
   "name": "python",
   "nbconvert_exporter": "python",
   "pygments_lexer": "ipython3",
   "version": "3.11.7"
  }
 },
 "nbformat": 4,
 "nbformat_minor": 5
}
